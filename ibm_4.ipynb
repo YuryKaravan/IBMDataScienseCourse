{
 "cells": [
  {
   "cell_type": "markdown",
   "metadata": {},
   "source": [
    "## Jupyter Notebook\n",
    "\n",
    "This notebook created for Data Sciense Capstone Project Course.\n",
    "Part of IBM Data Science Professional Certificate.\n",
    "\n",
    "Tutor: Alex Aklson                                          \n",
    "Student: Iurii Karavan\n",
    "https://www.linkedin.com/in/yury-karavan/\n",
    "\n",
    "April 2020, Saint-Petersburg, Russia"
   ]
  },
  {
   "cell_type": "markdown",
   "metadata": {},
   "source": [
    "### Import Section"
   ]
  },
  {
   "cell_type": "markdown",
   "metadata": {},
   "source": [
    "Let's install modules, if needed. Installation and tweaking of your basic python is out of this notebook."
   ]
  },
  {
   "cell_type": "markdown",
   "metadata": {},
   "source": [
    "check these modules are installed\n",
    "numpy \\\n",
    "pandas\\\n",
    "lxml\\\n",
    "html5lib and bs4\\\n",
    "geocoder (if you have a billing Google account)\\\n",
    "folium"
   ]
  },
  {
   "cell_type": "code",
   "execution_count": 1,
   "metadata": {},
   "outputs": [
    {
     "name": "stdout",
     "output_type": "stream",
     "text": [
      "Modules are loaded\n"
     ]
    }
   ],
   "source": [
    "import pandas as pd\n",
    "import numpy as np\n",
    "#import geocoder\n",
    "import folium \n",
    "print('Modules are loaded')"
   ]
  },
  {
   "cell_type": "markdown",
   "metadata": {},
   "source": [
    "### Code section"
   ]
  },
  {
   "cell_type": "code",
   "execution_count": 2,
   "metadata": {},
   "outputs": [
    {
     "name": "stdout",
     "output_type": "stream",
     "text": [
      "Hello Capstone Project Course!\n"
     ]
    }
   ],
   "source": [
    "print('Hello Capstone Project Course!')"
   ]
  },
  {
   "cell_type": "markdown",
   "metadata": {},
   "source": [
    "Preparing variables for DataFarme"
   ]
  },
  {
   "cell_type": "code",
   "execution_count": 3,
   "metadata": {},
   "outputs": [],
   "source": [
    "# original link is 'https://en.wikipedia.org/wiki/List_of_postal_codes_of_Canada:_M'\n",
    "# in accordance to pandas.read_html docs will change https protocol to http\n",
    "url = 'http://en.wikipedia.org/wiki/List_of_postal_codes_of_Canada:_M'\n",
    "header = 0\n",
    "flavor = 'html5lib'\n",
    "match = 'Postal code'\n",
    "skiprows = [0,1]\n",
    "df = pd.DataFrame()"
   ]
  },
  {
   "cell_type": "code",
   "execution_count": 4,
   "metadata": {},
   "outputs": [],
   "source": [
    "# full command is pandas.read_html(io, match='.+', flavor=None, header=None, index_col=None, skiprows=None, attrs=None, parse_dates=False, tupleize_cols=None, thousands=', ', encoding=None, decimal='.', converters=None, na_values=None, keep_default_na=True, displayed_only=True)\n",
    "dfs = pd.read_html(url, match=match, flavor=flavor, skiprows=skiprows)"
   ]
  },
  {
   "cell_type": "code",
   "execution_count": 5,
   "metadata": {},
   "outputs": [],
   "source": [
    "#Let's merge list od DataFrames to the singl DataFrama\n",
    "df = pd.concat(dfs)"
   ]
  },
  {
   "cell_type": "code",
   "execution_count": 6,
   "metadata": {},
   "outputs": [],
   "source": [
    "#Give names to columns of DataFrame\n",
    "df.columns=['PostalCode', 'Borough', 'Neighborhood']"
   ]
  },
  {
   "cell_type": "code",
   "execution_count": 7,
   "metadata": {},
   "outputs": [
    {
     "data": {
      "text/plain": [
       "(179, 3)"
      ]
     },
     "execution_count": 7,
     "metadata": {},
     "output_type": "execute_result"
    }
   ],
   "source": [
    "#check size of DataFrame\n",
    "df.shape"
   ]
  },
  {
   "cell_type": "code",
   "execution_count": 8,
   "metadata": {},
   "outputs": [
    {
     "data": {
      "text/html": [
       "<div>\n",
       "<style scoped>\n",
       "    .dataframe tbody tr th:only-of-type {\n",
       "        vertical-align: middle;\n",
       "    }\n",
       "\n",
       "    .dataframe tbody tr th {\n",
       "        vertical-align: top;\n",
       "    }\n",
       "\n",
       "    .dataframe thead th {\n",
       "        text-align: right;\n",
       "    }\n",
       "</style>\n",
       "<table border=\"1\" class=\"dataframe\">\n",
       "  <thead>\n",
       "    <tr style=\"text-align: right;\">\n",
       "      <th></th>\n",
       "      <th>PostalCode</th>\n",
       "      <th>Borough</th>\n",
       "      <th>Neighborhood</th>\n",
       "    </tr>\n",
       "  </thead>\n",
       "  <tbody>\n",
       "    <tr>\n",
       "      <th>0</th>\n",
       "      <td>M2A</td>\n",
       "      <td>Not assigned</td>\n",
       "      <td>NaN</td>\n",
       "    </tr>\n",
       "    <tr>\n",
       "      <th>1</th>\n",
       "      <td>M3A</td>\n",
       "      <td>North York</td>\n",
       "      <td>Parkwoods</td>\n",
       "    </tr>\n",
       "    <tr>\n",
       "      <th>2</th>\n",
       "      <td>M4A</td>\n",
       "      <td>North York</td>\n",
       "      <td>Victoria Village</td>\n",
       "    </tr>\n",
       "    <tr>\n",
       "      <th>3</th>\n",
       "      <td>M5A</td>\n",
       "      <td>Downtown Toronto</td>\n",
       "      <td>Regent Park / Harbourfront</td>\n",
       "    </tr>\n",
       "    <tr>\n",
       "      <th>4</th>\n",
       "      <td>M6A</td>\n",
       "      <td>North York</td>\n",
       "      <td>Lawrence Manor / Lawrence Heights</td>\n",
       "    </tr>\n",
       "    <tr>\n",
       "      <th>5</th>\n",
       "      <td>M7A</td>\n",
       "      <td>Downtown Toronto</td>\n",
       "      <td>Queen's Park / Ontario Provincial Government</td>\n",
       "    </tr>\n",
       "    <tr>\n",
       "      <th>6</th>\n",
       "      <td>M8A</td>\n",
       "      <td>Not assigned</td>\n",
       "      <td>NaN</td>\n",
       "    </tr>\n",
       "    <tr>\n",
       "      <th>7</th>\n",
       "      <td>M9A</td>\n",
       "      <td>Etobicoke</td>\n",
       "      <td>Islington Avenue</td>\n",
       "    </tr>\n",
       "    <tr>\n",
       "      <th>8</th>\n",
       "      <td>M1B</td>\n",
       "      <td>Scarborough</td>\n",
       "      <td>Malvern / Rouge</td>\n",
       "    </tr>\n",
       "    <tr>\n",
       "      <th>9</th>\n",
       "      <td>M2B</td>\n",
       "      <td>Not assigned</td>\n",
       "      <td>NaN</td>\n",
       "    </tr>\n",
       "  </tbody>\n",
       "</table>\n",
       "</div>"
      ],
      "text/plain": [
       "  PostalCode           Borough                                  Neighborhood\n",
       "0        M2A      Not assigned                                           NaN\n",
       "1        M3A        North York                                     Parkwoods\n",
       "2        M4A        North York                              Victoria Village\n",
       "3        M5A  Downtown Toronto                    Regent Park / Harbourfront\n",
       "4        M6A        North York             Lawrence Manor / Lawrence Heights\n",
       "5        M7A  Downtown Toronto  Queen's Park / Ontario Provincial Government\n",
       "6        M8A      Not assigned                                           NaN\n",
       "7        M9A         Etobicoke                              Islington Avenue\n",
       "8        M1B       Scarborough                               Malvern / Rouge\n",
       "9        M2B      Not assigned                                           NaN"
      ]
     },
     "execution_count": 8,
     "metadata": {},
     "output_type": "execute_result"
    }
   ],
   "source": [
    "#Let's see first 10 rows\n",
    "df.head(10)"
   ]
  },
  {
   "cell_type": "code",
   "execution_count": 9,
   "metadata": {},
   "outputs": [
    {
     "data": {
      "text/html": [
       "<div>\n",
       "<style scoped>\n",
       "    .dataframe tbody tr th:only-of-type {\n",
       "        vertical-align: middle;\n",
       "    }\n",
       "\n",
       "    .dataframe tbody tr th {\n",
       "        vertical-align: top;\n",
       "    }\n",
       "\n",
       "    .dataframe thead th {\n",
       "        text-align: right;\n",
       "    }\n",
       "</style>\n",
       "<table border=\"1\" class=\"dataframe\">\n",
       "  <thead>\n",
       "    <tr style=\"text-align: right;\">\n",
       "      <th></th>\n",
       "      <th>PostalCode</th>\n",
       "      <th>Borough</th>\n",
       "      <th>Neighborhood</th>\n",
       "    </tr>\n",
       "  </thead>\n",
       "  <tbody>\n",
       "    <tr>\n",
       "      <th>174</th>\n",
       "      <td>M5Z</td>\n",
       "      <td>Not assigned</td>\n",
       "      <td>NaN</td>\n",
       "    </tr>\n",
       "    <tr>\n",
       "      <th>175</th>\n",
       "      <td>M6Z</td>\n",
       "      <td>Not assigned</td>\n",
       "      <td>NaN</td>\n",
       "    </tr>\n",
       "    <tr>\n",
       "      <th>176</th>\n",
       "      <td>M7Z</td>\n",
       "      <td>Not assigned</td>\n",
       "      <td>NaN</td>\n",
       "    </tr>\n",
       "    <tr>\n",
       "      <th>177</th>\n",
       "      <td>M8Z</td>\n",
       "      <td>Etobicoke</td>\n",
       "      <td>Mimico NW / The Queensway West / South of Bloo...</td>\n",
       "    </tr>\n",
       "    <tr>\n",
       "      <th>178</th>\n",
       "      <td>M9Z</td>\n",
       "      <td>Not assigned</td>\n",
       "      <td>NaN</td>\n",
       "    </tr>\n",
       "  </tbody>\n",
       "</table>\n",
       "</div>"
      ],
      "text/plain": [
       "    PostalCode       Borough  \\\n",
       "174        M5Z  Not assigned   \n",
       "175        M6Z  Not assigned   \n",
       "176        M7Z  Not assigned   \n",
       "177        M8Z     Etobicoke   \n",
       "178        M9Z  Not assigned   \n",
       "\n",
       "                                          Neighborhood  \n",
       "174                                                NaN  \n",
       "175                                                NaN  \n",
       "176                                                NaN  \n",
       "177  Mimico NW / The Queensway West / South of Bloo...  \n",
       "178                                                NaN  "
      ]
     },
     "execution_count": 9,
     "metadata": {},
     "output_type": "execute_result"
    }
   ],
   "source": [
    "#Let's see last 5 rows\n",
    "df.tail()"
   ]
  },
  {
   "cell_type": "markdown",
   "metadata": {},
   "source": [
    "Let's remove rows where 'Borough' is 'Not assigned', reset indexes and change \"/\" separator to comma"
   ]
  },
  {
   "cell_type": "code",
   "execution_count": 10,
   "metadata": {},
   "outputs": [
    {
     "name": "stdout",
     "output_type": "stream",
     "text": [
      "Neighborhood field OK\n"
     ]
    }
   ],
   "source": [
    "for i in range(len(df)):\n",
    "    if df.loc[i, 'Borough'] == 'Not assigned':\n",
    "        df.drop(i, inplace=True)\n",
    "\n",
    "df.reset_index(drop = True, inplace=True)\n",
    "\n",
    "for i in range(len(df)):\n",
    "    if ' / ' in df.loc[i, 'Neighborhood']:\n",
    "        df.loc[i, 'Neighborhood'] = df.loc[i, 'Neighborhood'].replace(r' / ', ', ')\n",
    "        \n",
    "#check the 'Neighborhood' field  for 'Not assigned' values\n",
    "if 'Not assigned' in df['Neighborhood']:\n",
    "    print('Neighborhood field must be corrected')\n",
    "else:\n",
    "    print('Neighborhood field OK')    "
   ]
  },
  {
   "cell_type": "code",
   "execution_count": 11,
   "metadata": {},
   "outputs": [
    {
     "data": {
      "text/html": [
       "<div>\n",
       "<style scoped>\n",
       "    .dataframe tbody tr th:only-of-type {\n",
       "        vertical-align: middle;\n",
       "    }\n",
       "\n",
       "    .dataframe tbody tr th {\n",
       "        vertical-align: top;\n",
       "    }\n",
       "\n",
       "    .dataframe thead th {\n",
       "        text-align: right;\n",
       "    }\n",
       "</style>\n",
       "<table border=\"1\" class=\"dataframe\">\n",
       "  <thead>\n",
       "    <tr style=\"text-align: right;\">\n",
       "      <th></th>\n",
       "      <th>PostalCode</th>\n",
       "      <th>Borough</th>\n",
       "      <th>Neighborhood</th>\n",
       "    </tr>\n",
       "  </thead>\n",
       "  <tbody>\n",
       "    <tr>\n",
       "      <th>0</th>\n",
       "      <td>M3A</td>\n",
       "      <td>North York</td>\n",
       "      <td>Parkwoods</td>\n",
       "    </tr>\n",
       "    <tr>\n",
       "      <th>1</th>\n",
       "      <td>M4A</td>\n",
       "      <td>North York</td>\n",
       "      <td>Victoria Village</td>\n",
       "    </tr>\n",
       "    <tr>\n",
       "      <th>2</th>\n",
       "      <td>M5A</td>\n",
       "      <td>Downtown Toronto</td>\n",
       "      <td>Regent Park, Harbourfront</td>\n",
       "    </tr>\n",
       "    <tr>\n",
       "      <th>3</th>\n",
       "      <td>M6A</td>\n",
       "      <td>North York</td>\n",
       "      <td>Lawrence Manor, Lawrence Heights</td>\n",
       "    </tr>\n",
       "    <tr>\n",
       "      <th>4</th>\n",
       "      <td>M7A</td>\n",
       "      <td>Downtown Toronto</td>\n",
       "      <td>Queen's Park, Ontario Provincial Government</td>\n",
       "    </tr>\n",
       "    <tr>\n",
       "      <th>5</th>\n",
       "      <td>M9A</td>\n",
       "      <td>Etobicoke</td>\n",
       "      <td>Islington Avenue</td>\n",
       "    </tr>\n",
       "    <tr>\n",
       "      <th>6</th>\n",
       "      <td>M1B</td>\n",
       "      <td>Scarborough</td>\n",
       "      <td>Malvern, Rouge</td>\n",
       "    </tr>\n",
       "    <tr>\n",
       "      <th>7</th>\n",
       "      <td>M3B</td>\n",
       "      <td>North York</td>\n",
       "      <td>Don Mills</td>\n",
       "    </tr>\n",
       "    <tr>\n",
       "      <th>8</th>\n",
       "      <td>M4B</td>\n",
       "      <td>East York</td>\n",
       "      <td>Parkview Hill, Woodbine Gardens</td>\n",
       "    </tr>\n",
       "    <tr>\n",
       "      <th>9</th>\n",
       "      <td>M5B</td>\n",
       "      <td>Downtown Toronto</td>\n",
       "      <td>Garden District, Ryerson</td>\n",
       "    </tr>\n",
       "  </tbody>\n",
       "</table>\n",
       "</div>"
      ],
      "text/plain": [
       "  PostalCode           Borough                                 Neighborhood\n",
       "0        M3A        North York                                    Parkwoods\n",
       "1        M4A        North York                             Victoria Village\n",
       "2        M5A  Downtown Toronto                    Regent Park, Harbourfront\n",
       "3        M6A        North York             Lawrence Manor, Lawrence Heights\n",
       "4        M7A  Downtown Toronto  Queen's Park, Ontario Provincial Government\n",
       "5        M9A         Etobicoke                             Islington Avenue\n",
       "6        M1B       Scarborough                               Malvern, Rouge\n",
       "7        M3B        North York                                    Don Mills\n",
       "8        M4B         East York              Parkview Hill, Woodbine Gardens\n",
       "9        M5B  Downtown Toronto                     Garden District, Ryerson"
      ]
     },
     "execution_count": 11,
     "metadata": {},
     "output_type": "execute_result"
    }
   ],
   "source": [
    "#See first rows\n",
    "df.head(10)"
   ]
  },
  {
   "cell_type": "code",
   "execution_count": 12,
   "metadata": {},
   "outputs": [
    {
     "data": {
      "text/html": [
       "<div>\n",
       "<style scoped>\n",
       "    .dataframe tbody tr th:only-of-type {\n",
       "        vertical-align: middle;\n",
       "    }\n",
       "\n",
       "    .dataframe tbody tr th {\n",
       "        vertical-align: top;\n",
       "    }\n",
       "\n",
       "    .dataframe thead th {\n",
       "        text-align: right;\n",
       "    }\n",
       "</style>\n",
       "<table border=\"1\" class=\"dataframe\">\n",
       "  <thead>\n",
       "    <tr style=\"text-align: right;\">\n",
       "      <th></th>\n",
       "      <th>PostalCode</th>\n",
       "      <th>Borough</th>\n",
       "      <th>Neighborhood</th>\n",
       "    </tr>\n",
       "  </thead>\n",
       "  <tbody>\n",
       "    <tr>\n",
       "      <th>98</th>\n",
       "      <td>M8X</td>\n",
       "      <td>Etobicoke</td>\n",
       "      <td>The Kingsway, Montgomery Road, Old Mill North</td>\n",
       "    </tr>\n",
       "    <tr>\n",
       "      <th>99</th>\n",
       "      <td>M4Y</td>\n",
       "      <td>Downtown Toronto</td>\n",
       "      <td>Church and Wellesley</td>\n",
       "    </tr>\n",
       "    <tr>\n",
       "      <th>100</th>\n",
       "      <td>M7Y</td>\n",
       "      <td>East Toronto</td>\n",
       "      <td>Business reply mail Processing CentrE</td>\n",
       "    </tr>\n",
       "    <tr>\n",
       "      <th>101</th>\n",
       "      <td>M8Y</td>\n",
       "      <td>Etobicoke</td>\n",
       "      <td>Old Mill South, King's Mill Park, Sunnylea, Hu...</td>\n",
       "    </tr>\n",
       "    <tr>\n",
       "      <th>102</th>\n",
       "      <td>M8Z</td>\n",
       "      <td>Etobicoke</td>\n",
       "      <td>Mimico NW, The Queensway West, South of Bloor,...</td>\n",
       "    </tr>\n",
       "  </tbody>\n",
       "</table>\n",
       "</div>"
      ],
      "text/plain": [
       "    PostalCode           Borough  \\\n",
       "98         M8X         Etobicoke   \n",
       "99         M4Y  Downtown Toronto   \n",
       "100        M7Y      East Toronto   \n",
       "101        M8Y         Etobicoke   \n",
       "102        M8Z         Etobicoke   \n",
       "\n",
       "                                          Neighborhood  \n",
       "98       The Kingsway, Montgomery Road, Old Mill North  \n",
       "99                                Church and Wellesley  \n",
       "100              Business reply mail Processing CentrE  \n",
       "101  Old Mill South, King's Mill Park, Sunnylea, Hu...  \n",
       "102  Mimico NW, The Queensway West, South of Bloor,...  "
      ]
     },
     "execution_count": 12,
     "metadata": {},
     "output_type": "execute_result"
    }
   ],
   "source": [
    "#Check last rows\n",
    "df.tail()"
   ]
  },
  {
   "cell_type": "code",
   "execution_count": 13,
   "metadata": {},
   "outputs": [
    {
     "data": {
      "text/plain": [
       "(103, 3)"
      ]
     },
     "execution_count": 13,
     "metadata": {},
     "output_type": "execute_result"
    }
   ],
   "source": [
    "#check new size of our DataFrame\n",
    "df.shape"
   ]
  },
  {
   "cell_type": "markdown",
   "metadata": {},
   "source": [
    "### Adding coordinates to DataFrame\n",
    "Add columns to Data Frame"
   ]
  },
  {
   "cell_type": "code",
   "execution_count": 14,
   "metadata": {},
   "outputs": [],
   "source": [
    "df['Latitude'] = 0.0\n",
    "df['Longitude'] = 0.0"
   ]
  },
  {
   "cell_type": "code",
   "execution_count": 15,
   "metadata": {},
   "outputs": [
    {
     "data": {
      "text/plain": [
       "Index(['PostalCode', 'Borough', 'Neighborhood', 'Latitude', 'Longitude'], dtype='object')"
      ]
     },
     "execution_count": 15,
     "metadata": {},
     "output_type": "execute_result"
    }
   ],
   "source": [
    "#show out names of columnns\n",
    "df.columns"
   ]
  },
  {
   "cell_type": "markdown",
   "metadata": {},
   "source": [
    "## Geocoder\n",
    "Using of geocoder is payable (5 USD for 1000 requests). In this reason I will use coordinates from the kindly provided by Alex Aklson file.\\\n",
    "about using Geocoder please read:\\\n",
    "https://developers.google.com/maps/documentation/geocoding/start?hl=ru&utm_source=google&utm_medium=cpc&utm_campaign=FY18-Q2-global-demandgen-paidsearchonnetworkhouseads-cs-maps_contactsal_saf&utm_content=text-ad-none-none-DEV_c-CRE_375946496075-ADGP_Hybrid+%7C+AW+SEM+%7C+SKWS+~+Places+%7C+EXA+%7C+Geocoding+API-KWID_43700046387144977-kwd-301485311002-userloc_9047064&utm_term=KW_geocoding%20api-ST_geocoding+api&gclid=CjwKCAjwg6b0BRBMEiwANd1_SH3iqXMXEVvxK6vc1LfRO8tcAG1Pw9hPWH7F3J6Xz41QOf39yzMZAhoCW4wQAvD_BwE"
   ]
  },
  {
   "cell_type": "code",
   "execution_count": 16,
   "metadata": {},
   "outputs": [
    {
     "name": "stdout",
     "output_type": "stream",
     "text": [
      "data loaded\n"
     ]
    }
   ],
   "source": [
    "#let's data with original name\n",
    "#I think downloading file is better than reading direct from a site because we need to do it once. \n",
    "#Next time we will use csv file.\n",
    "#Do not forget to add this file in git or your CVS repository!\n",
    "\n",
    "#!wget -q -O 'Geospatial_Coordinates.csv' https://cocl.us/Geospatial_data\n",
    "\n",
    "print('data loaded')"
   ]
  },
  {
   "cell_type": "code",
   "execution_count": 17,
   "metadata": {},
   "outputs": [
    {
     "data": {
      "text/html": [
       "<div>\n",
       "<style scoped>\n",
       "    .dataframe tbody tr th:only-of-type {\n",
       "        vertical-align: middle;\n",
       "    }\n",
       "\n",
       "    .dataframe tbody tr th {\n",
       "        vertical-align: top;\n",
       "    }\n",
       "\n",
       "    .dataframe thead th {\n",
       "        text-align: right;\n",
       "    }\n",
       "</style>\n",
       "<table border=\"1\" class=\"dataframe\">\n",
       "  <thead>\n",
       "    <tr style=\"text-align: right;\">\n",
       "      <th></th>\n",
       "      <th>Postal Code</th>\n",
       "      <th>Latitude</th>\n",
       "      <th>Longitude</th>\n",
       "    </tr>\n",
       "    <tr>\n",
       "      <th>Postal Code</th>\n",
       "      <th></th>\n",
       "      <th></th>\n",
       "      <th></th>\n",
       "    </tr>\n",
       "  </thead>\n",
       "  <tbody>\n",
       "    <tr>\n",
       "      <th>M1B</th>\n",
       "      <td>M1B</td>\n",
       "      <td>43.806686</td>\n",
       "      <td>-79.194353</td>\n",
       "    </tr>\n",
       "    <tr>\n",
       "      <th>M1C</th>\n",
       "      <td>M1C</td>\n",
       "      <td>43.784535</td>\n",
       "      <td>-79.160497</td>\n",
       "    </tr>\n",
       "    <tr>\n",
       "      <th>M1E</th>\n",
       "      <td>M1E</td>\n",
       "      <td>43.763573</td>\n",
       "      <td>-79.188711</td>\n",
       "    </tr>\n",
       "  </tbody>\n",
       "</table>\n",
       "</div>"
      ],
      "text/plain": [
       "            Postal Code   Latitude  Longitude\n",
       "Postal Code                                  \n",
       "M1B                 M1B  43.806686 -79.194353\n",
       "M1C                 M1C  43.784535 -79.160497\n",
       "M1E                 M1E  43.763573 -79.188711"
      ]
     },
     "execution_count": 17,
     "metadata": {},
     "output_type": "execute_result"
    }
   ],
   "source": [
    "#read data from file and change indexes to \"Postal Code\"\n",
    "dfcoord = pd.read_csv('Geospatial_Coordinates.csv')\n",
    "dfcoord.index = dfcoord['Postal Code']\n",
    "dfcoord.head(3)"
   ]
  },
  {
   "cell_type": "code",
   "execution_count": 18,
   "metadata": {},
   "outputs": [
    {
     "name": "stdout",
     "output_type": "stream",
     "text": [
      "The lenghts of the DataFrames are equal\n"
     ]
    }
   ],
   "source": [
    "#compare shapes od our dataframes. If lenghts are not equal we must stop processing\n",
    "if len(df) == len (dfcoord):\n",
    "    print('The lenghts of the DataFrames are equal')\n",
    "else:\n",
    "    print('You need to check your data!!')\n",
    "    raise SystemExit(3)"
   ]
  },
  {
   "cell_type": "markdown",
   "metadata": {},
   "source": [
    "Let's add coordinates to the main DataFrame and check data"
   ]
  },
  {
   "cell_type": "code",
   "execution_count": 19,
   "metadata": {},
   "outputs": [
    {
     "data": {
      "text/html": [
       "<div>\n",
       "<style scoped>\n",
       "    .dataframe tbody tr th:only-of-type {\n",
       "        vertical-align: middle;\n",
       "    }\n",
       "\n",
       "    .dataframe tbody tr th {\n",
       "        vertical-align: top;\n",
       "    }\n",
       "\n",
       "    .dataframe thead th {\n",
       "        text-align: right;\n",
       "    }\n",
       "</style>\n",
       "<table border=\"1\" class=\"dataframe\">\n",
       "  <thead>\n",
       "    <tr style=\"text-align: right;\">\n",
       "      <th></th>\n",
       "      <th>PostalCode</th>\n",
       "      <th>Borough</th>\n",
       "      <th>Neighborhood</th>\n",
       "      <th>Latitude</th>\n",
       "      <th>Longitude</th>\n",
       "    </tr>\n",
       "  </thead>\n",
       "  <tbody>\n",
       "    <tr>\n",
       "      <th>0</th>\n",
       "      <td>M3A</td>\n",
       "      <td>North York</td>\n",
       "      <td>Parkwoods</td>\n",
       "      <td>43.753259</td>\n",
       "      <td>-79.329656</td>\n",
       "    </tr>\n",
       "    <tr>\n",
       "      <th>1</th>\n",
       "      <td>M4A</td>\n",
       "      <td>North York</td>\n",
       "      <td>Victoria Village</td>\n",
       "      <td>43.725882</td>\n",
       "      <td>-79.315572</td>\n",
       "    </tr>\n",
       "    <tr>\n",
       "      <th>2</th>\n",
       "      <td>M5A</td>\n",
       "      <td>Downtown Toronto</td>\n",
       "      <td>Regent Park, Harbourfront</td>\n",
       "      <td>43.654260</td>\n",
       "      <td>-79.360636</td>\n",
       "    </tr>\n",
       "    <tr>\n",
       "      <th>3</th>\n",
       "      <td>M6A</td>\n",
       "      <td>North York</td>\n",
       "      <td>Lawrence Manor, Lawrence Heights</td>\n",
       "      <td>43.718518</td>\n",
       "      <td>-79.464763</td>\n",
       "    </tr>\n",
       "    <tr>\n",
       "      <th>4</th>\n",
       "      <td>M7A</td>\n",
       "      <td>Downtown Toronto</td>\n",
       "      <td>Queen's Park, Ontario Provincial Government</td>\n",
       "      <td>43.662301</td>\n",
       "      <td>-79.389494</td>\n",
       "    </tr>\n",
       "  </tbody>\n",
       "</table>\n",
       "</div>"
      ],
      "text/plain": [
       "  PostalCode           Borough                                 Neighborhood  \\\n",
       "0        M3A        North York                                    Parkwoods   \n",
       "1        M4A        North York                             Victoria Village   \n",
       "2        M5A  Downtown Toronto                    Regent Park, Harbourfront   \n",
       "3        M6A        North York             Lawrence Manor, Lawrence Heights   \n",
       "4        M7A  Downtown Toronto  Queen's Park, Ontario Provincial Government   \n",
       "\n",
       "    Latitude  Longitude  \n",
       "0  43.753259 -79.329656  \n",
       "1  43.725882 -79.315572  \n",
       "2  43.654260 -79.360636  \n",
       "3  43.718518 -79.464763  \n",
       "4  43.662301 -79.389494  "
      ]
     },
     "execution_count": 19,
     "metadata": {},
     "output_type": "execute_result"
    }
   ],
   "source": [
    "for i in range(len(df)):\n",
    "    p_code = df.loc[i, 'PostalCode']\n",
    "    df.loc[i, ['Latitude','Longitude']] = dfcoord.loc[p_code, ['Latitude','Longitude']]\n",
    "df.head()"
   ]
  },
  {
   "cell_type": "markdown",
   "metadata": {},
   "source": [
    "## Map"
   ]
  },
  {
   "cell_type": "markdown",
   "metadata": {},
   "source": [
    "Coordinates was taken from https://www.latlong.net/"
   ]
  },
  {
   "cell_type": "code",
   "execution_count": 20,
   "metadata": {},
   "outputs": [],
   "source": [
    "toronto_lat = 43.651070\n",
    "toronto_long = -79.347015"
   ]
  },
  {
   "cell_type": "markdown",
   "metadata": {},
   "source": [
    "Let's create a map with labels"
   ]
  },
  {
   "cell_type": "code",
   "execution_count": 21,
   "metadata": {},
   "outputs": [
    {
     "data": {
      "text/html": [
       "<div style=\"width:100%;\"><div style=\"position:relative;width:100%;height:0;padding-bottom:60%;\"><iframe src=\"about:blank\" style=\"position:absolute;width:100%;height:100%;left:0;top:0;border:none !important;\" data-html=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 onload=\"this.contentDocument.open();this.contentDocument.write(atob(this.getAttribute('data-html')));this.contentDocument.close();\" allowfullscreen webkitallowfullscreen mozallowfullscreen></iframe></div></div>"
      ],
      "text/plain": [
       "<folium.folium.Map at 0x7fa8153d4470>"
      ]
     },
     "execution_count": 21,
     "metadata": {},
     "output_type": "execute_result"
    }
   ],
   "source": [
    "map_toronto = folium.Map(location=[toronto_lat, toronto_long], zoom_start=12)\n",
    "\n",
    "# add markers to map (was taken from lab about Ney York Neighborhood)\n",
    "for lat, lng, borough, neighborhood in zip(df['Latitude'], df['Longitude'], df['Borough'], df['Neighborhood']):\n",
    "    label = '{}, {}'.format(neighborhood, borough)\n",
    "    label = folium.Popup(label, parse_html=True)\n",
    "    folium.CircleMarker(\n",
    "        [lat, lng],\n",
    "        radius=5,\n",
    "        popup=label,\n",
    "        color='green',\n",
    "        fill=True,\n",
    "        fill_color='lime',\n",
    "        fill_opacity=0.7,\n",
    "        parse_html=False).add_to(map_toronto)  \n",
    "\n",
    "map_toronto"
   ]
  },
  {
   "cell_type": "code",
   "execution_count": null,
   "metadata": {},
   "outputs": [],
   "source": []
  }
 ],
 "metadata": {
  "kernelspec": {
   "display_name": "Python 3",
   "language": "python",
   "name": "python3"
  },
  "language_info": {
   "codemirror_mode": {
    "name": "ipython",
    "version": 3
   },
   "file_extension": ".py",
   "mimetype": "text/x-python",
   "name": "python",
   "nbconvert_exporter": "python",
   "pygments_lexer": "ipython3",
   "version": "3.6.9"
  }
 },
 "nbformat": 4,
 "nbformat_minor": 4
}
